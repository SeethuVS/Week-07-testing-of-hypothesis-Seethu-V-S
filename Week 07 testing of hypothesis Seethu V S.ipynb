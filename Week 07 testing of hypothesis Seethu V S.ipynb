{
 "cells": [
  {
   "cell_type": "code",
   "execution_count": 2,
   "id": "b0488a5c",
   "metadata": {},
   "outputs": [],
   "source": [
    "import numpy as np\n",
    "import pandas as pd\n",
    "import matplotlib.pyplot as plt\n",
    "import seaborn as sns\n",
    "import statistics"
   ]
  },
  {
   "cell_type": "code",
   "execution_count": 3,
   "id": "205a0397",
   "metadata": {},
   "outputs": [
    {
     "data": {
      "text/html": [
       "<div>\n",
       "<style scoped>\n",
       "    .dataframe tbody tr th:only-of-type {\n",
       "        vertical-align: middle;\n",
       "    }\n",
       "\n",
       "    .dataframe tbody tr th {\n",
       "        vertical-align: top;\n",
       "    }\n",
       "\n",
       "    .dataframe thead th {\n",
       "        text-align: right;\n",
       "    }\n",
       "</style>\n",
       "<table border=\"1\" class=\"dataframe\">\n",
       "  <thead>\n",
       "    <tr style=\"text-align: right;\">\n",
       "      <th></th>\n",
       "      <th>Gender</th>\n",
       "      <th>Test preparation</th>\n",
       "      <th>Total Marks</th>\n",
       "    </tr>\n",
       "  </thead>\n",
       "  <tbody>\n",
       "    <tr>\n",
       "      <th>0</th>\n",
       "      <td>male</td>\n",
       "      <td>none</td>\n",
       "      <td>14</td>\n",
       "    </tr>\n",
       "    <tr>\n",
       "      <th>1</th>\n",
       "      <td>female</td>\n",
       "      <td>none</td>\n",
       "      <td>28</td>\n",
       "    </tr>\n",
       "    <tr>\n",
       "      <th>2</th>\n",
       "      <td>female</td>\n",
       "      <td>none</td>\n",
       "      <td>18</td>\n",
       "    </tr>\n",
       "    <tr>\n",
       "      <th>3</th>\n",
       "      <td>female</td>\n",
       "      <td>none</td>\n",
       "      <td>48</td>\n",
       "    </tr>\n",
       "    <tr>\n",
       "      <th>4</th>\n",
       "      <td>female</td>\n",
       "      <td>none</td>\n",
       "      <td>21</td>\n",
       "    </tr>\n",
       "  </tbody>\n",
       "</table>\n",
       "</div>"
      ],
      "text/plain": [
       "   Gender Test preparation  Total Marks\n",
       "0    male             none           14\n",
       "1  female             none           28\n",
       "2  female             none           18\n",
       "3  female             none           48\n",
       "4  female             none           21"
      ]
     },
     "execution_count": 3,
     "metadata": {},
     "output_type": "execute_result"
    }
   ],
   "source": [
    "df=pd.read_csv('dataset w7.csv')\n",
    "df.head()"
   ]
  },
  {
   "cell_type": "markdown",
   "id": "b161c0a1",
   "metadata": {},
   "source": [
    "# Carry out descriptive analytics on the dataset."
   ]
  },
  {
   "cell_type": "code",
   "execution_count": 4,
   "id": "08930f0f",
   "metadata": {},
   "outputs": [
    {
     "name": "stdout",
     "output_type": "stream",
     "text": [
      "<class 'pandas.core.frame.DataFrame'>\n",
      "RangeIndex: 28 entries, 0 to 27\n",
      "Data columns (total 3 columns):\n",
      " #   Column            Non-Null Count  Dtype \n",
      "---  ------            --------------  ----- \n",
      " 0   Gender            28 non-null     object\n",
      " 1   Test preparation  28 non-null     object\n",
      " 2   Total Marks       28 non-null     int64 \n",
      "dtypes: int64(1), object(2)\n",
      "memory usage: 800.0+ bytes\n"
     ]
    }
   ],
   "source": [
    "df.info()"
   ]
  },
  {
   "cell_type": "code",
   "execution_count": 5,
   "id": "9789b88d",
   "metadata": {},
   "outputs": [
    {
     "data": {
      "text/plain": [
       "female    16\n",
       "male      12\n",
       "Name: Gender, dtype: int64"
      ]
     },
     "execution_count": 5,
     "metadata": {},
     "output_type": "execute_result"
    }
   ],
   "source": [
    "df['Gender'].value_counts()"
   ]
  },
  {
   "cell_type": "code",
   "execution_count": 7,
   "id": "df810268",
   "metadata": {},
   "outputs": [
    {
     "data": {
      "text/plain": [
       "none         21\n",
       "completed     7\n",
       "Name: Test preparation, dtype: int64"
      ]
     },
     "execution_count": 7,
     "metadata": {},
     "output_type": "execute_result"
    }
   ],
   "source": [
    "df['Test preparation'].value_counts()"
   ]
  },
  {
   "cell_type": "code",
   "execution_count": 6,
   "id": "ada3d91a",
   "metadata": {},
   "outputs": [
    {
     "data": {
      "text/plain": [
       "<AxesSubplot:xlabel='Gender', ylabel='count'>"
      ]
     },
     "execution_count": 6,
     "metadata": {},
     "output_type": "execute_result"
    },
    {
     "data": {
      "image/png": "[encoded data removed]",
      "text/plain": [
       "<Figure size 432x288 with 1 Axes>"
      ]
     },
     "metadata": {
      "needs_background": "light"
     },
     "output_type": "display_data"
    }
   ],
   "source": [
    "sns.countplot(x='Gender',hue='Test preparation', data=df)"
   ]
  },
  {
   "cell_type": "code",
   "execution_count": 12,
   "id": "0488b207",
   "metadata": {},
   "outputs": [
    {
     "data": {
      "text/html": [
       "<div>\n",
       "<style scoped>\n",
       "    .dataframe tbody tr th:only-of-type {\n",
       "        vertical-align: middle;\n",
       "    }\n",
       "\n",
       "    .dataframe tbody tr th {\n",
       "        vertical-align: top;\n",
       "    }\n",
       "\n",
       "    .dataframe thead th {\n",
       "        text-align: right;\n",
       "    }\n",
       "</style>\n",
       "<table border=\"1\" class=\"dataframe\">\n",
       "  <thead>\n",
       "    <tr style=\"text-align: right;\">\n",
       "      <th></th>\n",
       "      <th>count</th>\n",
       "      <th>mean</th>\n",
       "      <th>std</th>\n",
       "      <th>min</th>\n",
       "      <th>25%</th>\n",
       "      <th>50%</th>\n",
       "      <th>75%</th>\n",
       "      <th>max</th>\n",
       "    </tr>\n",
       "    <tr>\n",
       "      <th>Test preparation</th>\n",
       "      <th></th>\n",
       "      <th></th>\n",
       "      <th></th>\n",
       "      <th></th>\n",
       "      <th></th>\n",
       "      <th></th>\n",
       "      <th></th>\n",
       "      <th></th>\n",
       "    </tr>\n",
       "  </thead>\n",
       "  <tbody>\n",
       "    <tr>\n",
       "      <th>completed</th>\n",
       "      <td>7.0</td>\n",
       "      <td>44.571429</td>\n",
       "      <td>3.359422</td>\n",
       "      <td>40.0</td>\n",
       "      <td>43.0</td>\n",
       "      <td>44.0</td>\n",
       "      <td>46.0</td>\n",
       "      <td>50.0</td>\n",
       "    </tr>\n",
       "    <tr>\n",
       "      <th>none</th>\n",
       "      <td>21.0</td>\n",
       "      <td>28.238095</td>\n",
       "      <td>11.661495</td>\n",
       "      <td>12.0</td>\n",
       "      <td>18.0</td>\n",
       "      <td>27.0</td>\n",
       "      <td>38.0</td>\n",
       "      <td>48.0</td>\n",
       "    </tr>\n",
       "  </tbody>\n",
       "</table>\n",
       "</div>"
      ],
      "text/plain": [
       "                  count       mean        std   min   25%   50%   75%   max\n",
       "Test preparation                                                           \n",
       "completed           7.0  44.571429   3.359422  40.0  43.0  44.0  46.0  50.0\n",
       "none               21.0  28.238095  11.661495  12.0  18.0  27.0  38.0  48.0"
      ]
     },
     "execution_count": 12,
     "metadata": {},
     "output_type": "execute_result"
    }
   ],
   "source": [
    "df.groupby('Test preparation')['Total Marks'].describe()"
   ]
  },
  {
   "cell_type": "code",
   "execution_count": 10,
   "id": "dcced97a",
   "metadata": {},
   "outputs": [
    {
     "data": {
      "text/html": [
       "<div>\n",
       "<style scoped>\n",
       "    .dataframe tbody tr th:only-of-type {\n",
       "        vertical-align: middle;\n",
       "    }\n",
       "\n",
       "    .dataframe tbody tr th {\n",
       "        vertical-align: top;\n",
       "    }\n",
       "\n",
       "    .dataframe thead th {\n",
       "        text-align: right;\n",
       "    }\n",
       "</style>\n",
       "<table border=\"1\" class=\"dataframe\">\n",
       "  <thead>\n",
       "    <tr style=\"text-align: right;\">\n",
       "      <th></th>\n",
       "      <th>count</th>\n",
       "      <th>mean</th>\n",
       "      <th>std</th>\n",
       "      <th>min</th>\n",
       "      <th>25%</th>\n",
       "      <th>50%</th>\n",
       "      <th>75%</th>\n",
       "      <th>max</th>\n",
       "    </tr>\n",
       "    <tr>\n",
       "      <th>Gender</th>\n",
       "      <th></th>\n",
       "      <th></th>\n",
       "      <th></th>\n",
       "      <th></th>\n",
       "      <th></th>\n",
       "      <th></th>\n",
       "      <th></th>\n",
       "      <th></th>\n",
       "    </tr>\n",
       "  </thead>\n",
       "  <tbody>\n",
       "    <tr>\n",
       "      <th>female</th>\n",
       "      <td>16.0</td>\n",
       "      <td>33.750000</td>\n",
       "      <td>12.865976</td>\n",
       "      <td>12.0</td>\n",
       "      <td>25.50</td>\n",
       "      <td>39.0</td>\n",
       "      <td>43.50</td>\n",
       "      <td>50.0</td>\n",
       "    </tr>\n",
       "    <tr>\n",
       "      <th>male</th>\n",
       "      <td>12.0</td>\n",
       "      <td>30.416667</td>\n",
       "      <td>12.168950</td>\n",
       "      <td>14.0</td>\n",
       "      <td>21.75</td>\n",
       "      <td>29.0</td>\n",
       "      <td>43.25</td>\n",
       "      <td>47.0</td>\n",
       "    </tr>\n",
       "  </tbody>\n",
       "</table>\n",
       "</div>"
      ],
      "text/plain": [
       "        count       mean        std   min    25%   50%    75%   max\n",
       "Gender                                                             \n",
       "female   16.0  33.750000  12.865976  12.0  25.50  39.0  43.50  50.0\n",
       "male     12.0  30.416667  12.168950  14.0  21.75  29.0  43.25  47.0"
      ]
     },
     "execution_count": 10,
     "metadata": {},
     "output_type": "execute_result"
    }
   ],
   "source": [
    "df.groupby('Gender')['Total Marks'].describe()"
   ]
  },
  {
   "cell_type": "code",
   "execution_count": 13,
   "id": "6440be06",
   "metadata": {},
   "outputs": [
    {
     "data": {
      "text/html": [
       "<div>\n",
       "<style scoped>\n",
       "    .dataframe tbody tr th:only-of-type {\n",
       "        vertical-align: middle;\n",
       "    }\n",
       "\n",
       "    .dataframe tbody tr th {\n",
       "        vertical-align: top;\n",
       "    }\n",
       "\n",
       "    .dataframe thead th {\n",
       "        text-align: right;\n",
       "    }\n",
       "</style>\n",
       "<table border=\"1\" class=\"dataframe\">\n",
       "  <thead>\n",
       "    <tr style=\"text-align: right;\">\n",
       "      <th></th>\n",
       "      <th>Total Marks</th>\n",
       "    </tr>\n",
       "  </thead>\n",
       "  <tbody>\n",
       "    <tr>\n",
       "      <th>count</th>\n",
       "      <td>28.000000</td>\n",
       "    </tr>\n",
       "    <tr>\n",
       "      <th>mean</th>\n",
       "      <td>32.321429</td>\n",
       "    </tr>\n",
       "    <tr>\n",
       "      <th>std</th>\n",
       "      <td>12.454520</td>\n",
       "    </tr>\n",
       "    <tr>\n",
       "      <th>min</th>\n",
       "      <td>12.000000</td>\n",
       "    </tr>\n",
       "    <tr>\n",
       "      <th>25%</th>\n",
       "      <td>22.500000</td>\n",
       "    </tr>\n",
       "    <tr>\n",
       "      <th>50%</th>\n",
       "      <td>33.000000</td>\n",
       "    </tr>\n",
       "    <tr>\n",
       "      <th>75%</th>\n",
       "      <td>43.250000</td>\n",
       "    </tr>\n",
       "    <tr>\n",
       "      <th>max</th>\n",
       "      <td>50.000000</td>\n",
       "    </tr>\n",
       "  </tbody>\n",
       "</table>\n",
       "</div>"
      ],
      "text/plain": [
       "       Total Marks\n",
       "count    28.000000\n",
       "mean     32.321429\n",
       "std      12.454520\n",
       "min      12.000000\n",
       "25%      22.500000\n",
       "50%      33.000000\n",
       "75%      43.250000\n",
       "max      50.000000"
      ]
     },
     "execution_count": 13,
     "metadata": {},
     "output_type": "execute_result"
    }
   ],
   "source": [
    "df.describe()"
   ]
  },
  {
   "cell_type": "markdown",
   "id": "75c8d5ab",
   "metadata": {},
   "source": [
    "# Check whether female and male students scored the same marks"
   ]
  },
  {
   "cell_type": "markdown",
   "id": "325ea8b9",
   "metadata": {},
   "source": [
    "#Setting Hypothesis\n",
    "H0: female and male students did not score the same marks\n",
    "\n",
    "H1: female and male students score the same marks.\n"
   ]
  },
  {
   "cell_type": "code",
   "execution_count": 14,
   "id": "42d7cec5",
   "metadata": {},
   "outputs": [],
   "source": [
    "# seperate male and female marks.\n",
    "male = df[df['Gender']=='male']['Total Marks']\n",
    "female = df[df['Gender']=='female']['Total Marks']\n",
    "alpha = .05\n",
    "# import ttset module\n",
    "from scipy.stats import ttest_ind"
   ]
  },
  {
   "cell_type": "code",
   "execution_count": 15,
   "id": "115585ef",
   "metadata": {},
   "outputs": [
    {
     "name": "stdout",
     "output_type": "stream",
     "text": [
      "p value: 0.4906112127110316\n",
      "Fail to reject H0.\n"
     ]
    }
   ],
   "source": [
    "stat,p = ttest_ind(male,female,equal_var=False)\n",
    "print(\"p value:\",p)\n",
    "if p < alpha:\n",
    "    print(\"Reject H0\")\n",
    "else:\n",
    "    print(\"Fail to reject H0.\")"
   ]
  },
  {
   "cell_type": "markdown",
   "id": "a4860d62",
   "metadata": {},
   "source": [
    "From the above t test we fail to reject the Null Hypothesis. Hence we can say that, Female and Male scored different marks"
   ]
  },
  {
   "cell_type": "markdown",
   "id": "e09a32b1",
   "metadata": {},
   "source": [
    "# Whether test preparation helps the students?"
   ]
  },
  {
   "cell_type": "markdown",
   "id": "0f6f0c78",
   "metadata": {},
   "source": [
    "alpha=0.05\n",
    "H0 : Test preparation didn't help students\n",
    "\n",
    "H1 : Test preparation helps students"
   ]
  },
  {
   "cell_type": "code",
   "execution_count": 19,
   "id": "0ae93350",
   "metadata": {},
   "outputs": [
    {
     "name": "stdout",
     "output_type": "stream",
     "text": [
      "p value: 4.884790752092096e-06\n",
      "Reject H0\n"
     ]
    }
   ],
   "source": [
    "tpn = df[df['Test preparation']=='none']['Total Marks']\n",
    "tpc = df[df['Test preparation']=='completed']['Total Marks']\n",
    "stat,p = ttest_ind(tpn,tpc,equal_var=False)\n",
    "print(\"p value:\",p)\n",
    "if p < alpha:\n",
    "    print(\"Reject H0\")\n",
    "else:\n",
    "    print(\"Fail to reject H0.\")"
   ]
  },
  {
   "cell_type": "markdown",
   "id": "9a863017",
   "metadata": {},
   "source": [
    "From the above t test we reject the Null Hypothesis. Hence we can say that, Test preparation helps students."
   ]
  }
 ],
 "metadata": {
  "kernelspec": {
   "display_name": "Python 3 (ipykernel)",
   "language": "python",
   "name": "python3"
  },
  "language_info": {
   "codemirror_mode": {
    "name": "ipython",
    "version": 3
   },
   "file_extension": ".py",
   "mimetype": "text/x-python",
   "name": "python",
   "nbconvert_exporter": "python",
   "pygments_lexer": "ipython3",
   "version": "3.9.12"
  }
 },
 "nbformat": 4,
 "nbformat_minor": 5
}
